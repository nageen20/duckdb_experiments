{
 "cells": [
  {
   "cell_type": "code",
   "execution_count": 1,
   "id": "792da0f5-8a48-4a0f-bf64-c6c8783cbde1",
   "metadata": {},
   "outputs": [],
   "source": [
    "import duckdb\n",
    "import time"
   ]
  },
  {
   "cell_type": "code",
   "execution_count": 2,
   "id": "aee3287f-ae66-4675-8950-8b032cb6fd1b",
   "metadata": {},
   "outputs": [
    {
     "name": "stdout",
     "output_type": "stream",
     "text": [
      "CPU times: total: 0 ns\n",
      "Wall time: 22.6 ms\n"
     ]
    }
   ],
   "source": [
    "%%time\n",
    "# Connect to DuckDB using persistence storage\n",
    "con = duckdb.connect(database = \"my-db.duckdb\", read_only = False)"
   ]
  },
  {
   "cell_type": "code",
   "execution_count": 3,
   "id": "7836b64e-992b-4ccf-a184-e0950f2d7a2a",
   "metadata": {},
   "outputs": [
    {
     "name": "stdout",
     "output_type": "stream",
     "text": [
      "CPU times: total: 312 ms\n",
      "Wall time: 433 ms\n"
     ]
    }
   ],
   "source": [
    "%%time\n",
    "# Read the bitcoin dataset\n",
    "bc_data = duckdb.read_csv('data/half1_BTCUSDT_1s.csv')"
   ]
  },
  {
   "cell_type": "code",
   "execution_count": 4,
   "id": "fb0a9f9f-fb26-4f71-9d2a-f14d9ac7841e",
   "metadata": {},
   "outputs": [
    {
     "name": "stdout",
     "output_type": "stream",
     "text": [
      "┌─────────────────────┬─────────┬─────────┬─────────┬───┬──────────────────────┬──────────────────────┬────────┐\n",
      "│      Open Time      │  Open   │  High   │   Low   │ … │ Taker Buy Base Ass…  │ Taker Buy Quote As…  │ Ignore │\n",
      "│      timestamp      │ double  │ double  │ double  │   │        double        │        double        │ int64  │\n",
      "├─────────────────────┼─────────┼─────────┼─────────┼───┼──────────────────────┼──────────────────────┼────────┤\n",
      "│ 2017-08-17 04:00:28 │ 4261.48 │ 4261.48 │ 4261.48 │ … │                  0.0 │                  0.0 │      0 │\n",
      "│ 2017-08-17 04:00:29 │ 4261.48 │ 4261.48 │ 4261.48 │ … │                  0.0 │                  0.0 │      0 │\n",
      "│ 2017-08-17 04:00:30 │ 4261.48 │ 4261.48 │ 4261.48 │ … │                  0.0 │                  0.0 │      0 │\n",
      "│ 2017-08-17 04:00:31 │ 4261.48 │ 4261.48 │ 4261.48 │ … │                  0.0 │                  0.0 │      0 │\n",
      "│ 2017-08-17 04:00:32 │ 4261.48 │ 4261.48 │ 4261.48 │ … │             0.075183 │         320.39085084 │      0 │\n",
      "│ 2017-08-17 04:00:33 │ 4261.48 │ 4261.48 │ 4261.48 │ … │                  0.0 │                  0.0 │      0 │\n",
      "│ 2017-08-17 04:00:34 │ 4261.48 │ 4261.48 │ 4261.48 │ … │                  0.0 │                  0.0 │      0 │\n",
      "│ 2017-08-17 04:00:35 │ 4261.48 │ 4261.48 │ 4261.48 │ … │                  0.0 │                  0.0 │      0 │\n",
      "│ 2017-08-17 04:00:36 │ 4261.48 │ 4261.48 │ 4261.48 │ … │                  0.0 │                  0.0 │      0 │\n",
      "│ 2017-08-17 04:00:37 │ 4261.48 │ 4261.48 │ 4261.48 │ … │                  0.0 │                  0.0 │      0 │\n",
      "│          ·          │    ·    │    ·    │    ·    │ · │                   ·  │                   ·  │      · │\n",
      "│          ·          │    ·    │    ·    │    ·    │ · │                   ·  │                   ·  │      · │\n",
      "│          ·          │    ·    │    ·    │    ·    │ · │                   ·  │                   ·  │      · │\n",
      "│ 2017-08-17 06:46:58 │ 4345.45 │ 4345.45 │ 4345.45 │ … │                  0.0 │                  0.0 │      0 │\n",
      "│ 2017-08-17 06:46:59 │ 4345.45 │ 4345.45 │ 4345.45 │ … │                  0.0 │                  0.0 │      0 │\n",
      "│ 2017-08-17 06:47:00 │ 4345.45 │ 4345.45 │ 4345.45 │ … │                  0.0 │                  0.0 │      0 │\n",
      "│ 2017-08-17 06:47:01 │ 4345.45 │ 4345.45 │ 4345.45 │ … │                  0.0 │                  0.0 │      0 │\n",
      "│ 2017-08-17 06:47:02 │ 4345.45 │ 4345.45 │ 4345.45 │ … │                  0.0 │                  0.0 │      0 │\n",
      "│ 2017-08-17 06:47:03 │ 4345.45 │ 4345.45 │ 4345.45 │ … │                  0.0 │                  0.0 │      0 │\n",
      "│ 2017-08-17 06:47:04 │ 4345.45 │ 4345.45 │ 4345.45 │ … │                  0.0 │                  0.0 │      0 │\n",
      "│ 2017-08-17 06:47:05 │ 4345.45 │ 4345.45 │ 4345.45 │ … │                  0.0 │                  0.0 │      0 │\n",
      "│ 2017-08-17 06:47:06 │ 4345.45 │ 4345.45 │ 4345.45 │ … │                  0.0 │                  0.0 │      0 │\n",
      "│ 2017-08-17 06:47:07 │ 4345.45 │ 4345.45 │ 4345.45 │ … │                  0.0 │                  0.0 │      0 │\n",
      "├─────────────────────┴─────────┴─────────┴─────────┴───┴──────────────────────┴──────────────────────┴────────┤\n",
      "│ ? rows (>9999 rows, 20 shown)                                                           12 columns (7 shown) │\n",
      "└──────────────────────────────────────────────────────────────────────────────────────────────────────────────┘\n",
      "\n",
      "Total time taken: 0.11161351203918457\n",
      "CPU times: total: 125 ms\n",
      "Wall time: 112 ms\n"
     ]
    }
   ],
   "source": [
    "%%time\n",
    "# Show the output of the bitcoin dataset\n",
    "start_time = time.time()\n",
    "duckdb.sql('''SELECT * FROM bc_data\n",
    "''').show()\n",
    "end_time = time.time()\n",
    "print(f'Total time taken: {end_time - start_time}')"
   ]
  },
  {
   "cell_type": "code",
   "execution_count": 5,
   "id": "d321fc3a-5cf4-4a37-94b5-9d48ef69d621",
   "metadata": {},
   "outputs": [
    {
     "name": "stdout",
     "output_type": "stream",
     "text": [
      "┌─────────────────────┬─────────────────────┬──────────────┐\n",
      "│    starting_time    │     ending_time     │ count_star() │\n",
      "│      timestamp      │      timestamp      │    int64     │\n",
      "├─────────────────────┼─────────────────────┼──────────────┤\n",
      "│ 2017-08-17 04:00:28 │ 2021-02-23 09:20:19 │    110671732 │\n",
      "└─────────────────────┴─────────────────────┴──────────────┘\n",
      "\n",
      "Total time taken: 19.445404291152954\n",
      "CPU times: total: 1min 18s\n",
      "Wall time: 19.4 s\n"
     ]
    }
   ],
   "source": [
    "%%time\n",
    "# Check the start time, end time and the total rows in the dataset\n",
    "start_time = time.time()\n",
    "duckdb.sql('''SELECT MIN(\"Open Time\") as starting_time, \n",
    "                        MAX(\"Open Time\") as ending_time,\n",
    "                        COUNT(*)\n",
    "                FROM bc_data\n",
    "''').show()\n",
    "end_time = time.time()\n",
    "print(f'Total time taken: {end_time - start_time}')"
   ]
  },
  {
   "cell_type": "code",
   "execution_count": 27,
   "id": "e65fe8a0-434c-4838-a0be-4934cbf0feac",
   "metadata": {},
   "outputs": [
    {
     "name": "stdout",
     "output_type": "stream",
     "text": [
      "┌─────────────────────┬─────────┬───────────────────┬───────────────────┐\n",
      "│      Open Time      │  Close  │       ma50        │       ma200       │\n",
      "│      timestamp      │ double  │      double       │      double       │\n",
      "├─────────────────────┼─────────┼───────────────────┼───────────────────┤\n",
      "│ 2017-08-17 04:00:28 │ 4261.48 │           4261.48 │           4261.48 │\n",
      "│ 2017-08-17 04:00:29 │ 4261.48 │           4261.48 │           4261.48 │\n",
      "│ 2017-08-17 04:00:30 │ 4261.48 │           4261.48 │           4261.48 │\n",
      "│ 2017-08-17 04:00:31 │ 4261.48 │           4261.48 │           4261.48 │\n",
      "│ 2017-08-17 04:00:32 │ 4261.48 │           4261.48 │           4261.48 │\n",
      "│ 2017-08-17 04:00:33 │ 4261.48 │           4261.48 │           4261.48 │\n",
      "│ 2017-08-17 04:00:34 │ 4261.48 │           4261.48 │           4261.48 │\n",
      "│ 2017-08-17 04:00:35 │ 4261.48 │           4261.48 │           4261.48 │\n",
      "│ 2017-08-17 04:00:36 │ 4261.48 │           4261.48 │           4261.48 │\n",
      "│ 2017-08-17 04:00:37 │ 4261.48 │ 4261.479999999999 │ 4261.479999999999 │\n",
      "│          ·          │    ·    │         ·         │         ·         │\n",
      "│          ·          │    ·    │         ·         │         ·         │\n",
      "│          ·          │    ·    │         ·         │         ·         │\n",
      "│ 2017-08-17 06:46:58 │ 4345.45 │ 4345.450000000001 │ 4345.449999999996 │\n",
      "│ 2017-08-17 06:46:59 │ 4345.45 │ 4345.450000000001 │ 4345.449999999996 │\n",
      "│ 2017-08-17 06:47:00 │ 4345.45 │ 4345.450000000002 │ 4345.449999999995 │\n",
      "│ 2017-08-17 06:47:01 │ 4345.45 │ 4345.450000000002 │ 4345.449999999995 │\n",
      "│ 2017-08-17 06:47:02 │ 4345.45 │ 4345.450000000002 │ 4345.449999999995 │\n",
      "│ 2017-08-17 06:47:03 │ 4345.45 │ 4345.450000000002 │ 4345.449999999995 │\n",
      "│ 2017-08-17 06:47:04 │ 4345.45 │ 4345.450000000003 │ 4345.449999999995 │\n",
      "│ 2017-08-17 06:47:05 │ 4345.45 │ 4345.450000000003 │ 4345.449999999994 │\n",
      "│ 2017-08-17 06:47:06 │ 4345.45 │ 4345.450000000003 │ 4345.449999999994 │\n",
      "│ 2017-08-17 06:47:07 │ 4345.45 │ 4345.449999999999 │ 4345.449999999998 │\n",
      "├─────────────────────┴─────────┴───────────────────┴───────────────────┤\n",
      "│ ? rows (>9999 rows, 20 shown)                               4 columns │\n",
      "└───────────────────────────────────────────────────────────────────────┘\n",
      "\n",
      "Total time taken: 58.112016439437866\n",
      "CPU times: total: 3min 57s\n",
      "Wall time: 58.1 s\n"
     ]
    }
   ],
   "source": [
    "%%time\n",
    "# Calculate the 50 seconds moving average and 200 seconds moving average and show the output\n",
    "start_time = time.time()\n",
    "duckdb.sql('''\n",
    "                SELECT \"Open Time\",\n",
    "                        Close,\n",
    "                        AVG(\"Close\") OVER ( ORDER BY \"Open Time\"  \n",
    "                                            RANGE BETWEEN INTERVAL 50 SECONDS PRECEDING\n",
    "                                              AND INTERVAL 0 SECONDS FOLLOWING) as ma50,\n",
    "                        AVG(\"Close\") OVER ( ORDER BY \"Open Time\" \n",
    "                                            RANGE BETWEEN INTERVAL 200 SECONDS PRECEDING\n",
    "                                              AND INTERVAL 0 SECONDS FOLLOWING) as ma200\n",
    "                FROM bc_data\n",
    "''').show()\n",
    "end_time = time.time()\n",
    "print(f'Total time taken: {end_time - start_time}')"
   ]
  },
  {
   "cell_type": "code",
   "execution_count": 26,
   "id": "83b182a7-58b0-4d20-a595-106691291015",
   "metadata": {},
   "outputs": [
    {
     "name": "stdout",
     "output_type": "stream",
     "text": [
      "Total time taken: 0.0\n",
      "CPU times: total: 0 ns\n",
      "Wall time: 0 ns\n"
     ]
    }
   ],
   "source": [
    "%%time\n",
    "# Calculate the 50 seconds moving average and 200 seconds moving average and show the output\n",
    "# Notice that query is not yet evaluated. It will be evaluated only when we call a method that triggers evaluation\n",
    "start_time = time.time()\n",
    "moving_averages = duckdb.sql('''\n",
    "                SELECT \"Open Time\",\n",
    "                        Close,\n",
    "                        AVG(\"Close\") OVER ( ORDER BY \"Open Time\"  \n",
    "                                            RANGE BETWEEN INTERVAL 50 SECONDS PRECEDING\n",
    "                                              AND INTERVAL 0 SECONDS FOLLOWING) as ma50,\n",
    "                        AVG(\"Close\") OVER ( ORDER BY \"Open Time\" \n",
    "                                            RANGE BETWEEN INTERVAL 200 SECONDS PRECEDING\n",
    "                                              AND INTERVAL 0 SECONDS FOLLOWING) as ma200\n",
    "                FROM bc_data\n",
    "''')\n",
    "end_time = time.time()\n",
    "print(f'Total time taken: {end_time - start_time}')"
   ]
  },
  {
   "cell_type": "code",
   "execution_count": 28,
   "id": "3bdaf201-3c0e-41d3-8026-fec3907bced0",
   "metadata": {},
   "outputs": [
    {
     "name": "stdout",
     "output_type": "stream",
     "text": [
      "┌─────────────────────┬─────────────────────┬──────────────┐\n",
      "│  max(\"Open Time\")   │  min(\"Open Time\")   │ count_star() │\n",
      "│      timestamp      │      timestamp      │    int64     │\n",
      "├─────────────────────┼─────────────────────┼──────────────┤\n",
      "│ 2021-02-23 09:20:19 │ 2017-08-17 04:00:28 │    110671732 │\n",
      "└─────────────────────┴─────────────────────┴──────────────┘\n",
      "\n",
      "Total time taken: 97.46205115318298\n",
      "CPU times: total: 7min 38s\n",
      "Wall time: 1min 37s\n"
     ]
    }
   ],
   "source": [
    "%%time\n",
    "# Calculatin the maximum open time and minimum open time and the count of the records from the above query.\n",
    "# The above query is evaluated and then below query is processed\n",
    "start_time = time.time()\n",
    "duckdb.sql('''\n",
    "                SELECT MAX(\"Open Time\"), MIN(\"Open Time\"), count(*)\n",
    "                FROM moving_averages\n",
    "\n",
    "''').show()\n",
    "end_time = time.time()\n",
    "print(f'Total time taken: {end_time - start_time}')"
   ]
  },
  {
   "cell_type": "code",
   "execution_count": 30,
   "id": "c3d730c6-e580-4673-aa8c-46895646aff3",
   "metadata": {},
   "outputs": [
    {
     "name": "stdout",
     "output_type": "stream",
     "text": [
      "┌─────────────────────┬─────────────────────┬──────────────┐\n",
      "│  max(\"Open Time\")   │  min(\"Open Time\")   │ count_star() │\n",
      "│      timestamp      │      timestamp      │    int64     │\n",
      "├─────────────────────┼─────────────────────┼──────────────┤\n",
      "│ 2017-08-17 23:59:59 │ 2017-08-17 04:00:28 │        71972 │\n",
      "└─────────────────────┴─────────────────────┴──────────────┘\n",
      "\n",
      "Total time taken: 99.59736180305481\n",
      "CPU times: total: 7min 50s\n",
      "Wall time: 1min 39s\n"
     ]
    }
   ],
   "source": [
    "%%time\n",
    "# Calculatin the maximum open time and minimum open time and the count of the records from the above query.\n",
    "# The records are filter to only before '2017-08-18'\n",
    "# The above query is evaluated and then below query is processed\n",
    "start_time = time.time()\n",
    "duckdb.sql('''\n",
    "                SELECT MAX(\"Open Time\"), MIN(\"Open Time\"), count(*)\n",
    "                FROM moving_averages\n",
    "                WHERE \"Open Time\" < '2017-08-18 00:00:00'\n",
    "\n",
    "''').show()\n",
    "end_time = time.time()\n",
    "print(f'Total time taken: {end_time - start_time}')"
   ]
  },
  {
   "cell_type": "code",
   "execution_count": 20,
   "id": "bc56e9f6-d180-4e2b-8d98-6cdabac84f77",
   "metadata": {},
   "outputs": [
    {
     "name": "stdout",
     "output_type": "stream",
     "text": [
      "┌─────────────────────┬─────────┬───────────────────┬───────────────────┐\n",
      "│      Open Time      │  Close  │       ma50        │       ma200       │\n",
      "│      timestamp      │ double  │      double       │      double       │\n",
      "├─────────────────────┼─────────┼───────────────────┼───────────────────┤\n",
      "│ 2017-08-17 04:00:28 │ 4261.48 │           4261.48 │           4261.48 │\n",
      "│ 2017-08-17 04:00:29 │ 4261.48 │           4261.48 │           4261.48 │\n",
      "│ 2017-08-17 04:00:30 │ 4261.48 │           4261.48 │           4261.48 │\n",
      "│ 2017-08-17 04:00:31 │ 4261.48 │           4261.48 │           4261.48 │\n",
      "│ 2017-08-17 04:00:32 │ 4261.48 │           4261.48 │           4261.48 │\n",
      "│ 2017-08-17 04:00:33 │ 4261.48 │           4261.48 │           4261.48 │\n",
      "│ 2017-08-17 04:00:34 │ 4261.48 │           4261.48 │           4261.48 │\n",
      "│ 2017-08-17 04:00:35 │ 4261.48 │           4261.48 │           4261.48 │\n",
      "│ 2017-08-17 04:00:36 │ 4261.48 │           4261.48 │           4261.48 │\n",
      "│ 2017-08-17 04:00:37 │ 4261.48 │ 4261.479999999999 │ 4261.479999999999 │\n",
      "│          ·          │    ·    │         ·         │         ·         │\n",
      "│          ·          │    ·    │         ·         │         ·         │\n",
      "│          ·          │    ·    │         ·         │         ·         │\n",
      "│ 2017-08-17 06:46:58 │ 4345.45 │ 4345.450000000001 │ 4345.449999999996 │\n",
      "│ 2017-08-17 06:46:59 │ 4345.45 │ 4345.450000000001 │ 4345.449999999996 │\n",
      "│ 2017-08-17 06:47:00 │ 4345.45 │ 4345.450000000002 │ 4345.449999999995 │\n",
      "│ 2017-08-17 06:47:01 │ 4345.45 │ 4345.450000000002 │ 4345.449999999995 │\n",
      "│ 2017-08-17 06:47:02 │ 4345.45 │ 4345.450000000002 │ 4345.449999999995 │\n",
      "│ 2017-08-17 06:47:03 │ 4345.45 │ 4345.450000000002 │ 4345.449999999995 │\n",
      "│ 2017-08-17 06:47:04 │ 4345.45 │ 4345.450000000003 │ 4345.449999999995 │\n",
      "│ 2017-08-17 06:47:05 │ 4345.45 │ 4345.450000000003 │ 4345.449999999994 │\n",
      "│ 2017-08-17 06:47:06 │ 4345.45 │ 4345.450000000003 │ 4345.449999999994 │\n",
      "│ 2017-08-17 06:47:07 │ 4345.45 │ 4345.449999999999 │ 4345.449999999998 │\n",
      "├─────────────────────┴─────────┴───────────────────┴───────────────────┤\n",
      "│ ? rows (>9999 rows, 20 shown)                               4 columns │\n",
      "└───────────────────────────────────────────────────────────────────────┘\n",
      "\n",
      "Total time taken: 56.763460636138916\n",
      "CPU times: total: 4min 13s\n",
      "Wall time: 56.8 s\n"
     ]
    }
   ],
   "source": [
    "%%time\n",
    "# Checking the data in the moving averages table\n",
    "start_time = time.time()\n",
    "duckdb.sql('''\n",
    "                SELECT *\n",
    "                FROM moving_averages\n",
    "''').show()\n",
    "end_time = time.time()\n",
    "print(f'Total time taken: {end_time - start_time}')"
   ]
  },
  {
   "cell_type": "code",
   "execution_count": null,
   "id": "7d154a4d-7e61-4ba0-8f33-1d5d3a525190",
   "metadata": {},
   "outputs": [],
   "source": []
  }
 ],
 "metadata": {
  "kernelspec": {
   "display_name": "Python 3 (ipykernel)",
   "language": "python",
   "name": "python3"
  },
  "language_info": {
   "codemirror_mode": {
    "name": "ipython",
    "version": 3
   },
   "file_extension": ".py",
   "mimetype": "text/x-python",
   "name": "python",
   "nbconvert_exporter": "python",
   "pygments_lexer": "ipython3",
   "version": "3.9.12"
  }
 },
 "nbformat": 4,
 "nbformat_minor": 5
}
