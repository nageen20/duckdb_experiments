{
 "cells": [
  {
   "cell_type": "code",
   "execution_count": 7,
   "id": "2bb1c205-5596-4c67-b55f-17b0d4b6591b",
   "metadata": {},
   "outputs": [],
   "source": [
    "import duckdb\n",
    "import time"
   ]
  },
  {
   "cell_type": "code",
   "execution_count": 8,
   "id": "5abda52a-a8ac-45f7-ae22-0a7834ca0215",
   "metadata": {},
   "outputs": [
    {
     "name": "stdout",
     "output_type": "stream",
     "text": [
      "CPU times: total: 15.6 ms\n",
      "Wall time: 67.8 ms\n"
     ]
    }
   ],
   "source": [
    "%%time\n",
    "# Connect to the DuckDB using persistence storage\n",
    "con = duckdb.connect(database = \"my-db.duckdb\", read_only = False)"
   ]
  },
  {
   "cell_type": "code",
   "execution_count": 5,
   "id": "0e32c324-6774-476b-b0fc-bfc6ab76725c",
   "metadata": {},
   "outputs": [
    {
     "name": "stdout",
     "output_type": "stream",
     "text": [
      "CPU times: total: 62.5 ms\n",
      "Wall time: 135 ms\n"
     ]
    }
   ],
   "source": [
    "%%time\n",
    "# Reading the user details anime dataset\n",
    "user_details = duckdb.read_csv('data/users-details-2023.csv')"
   ]
  },
  {
   "cell_type": "code",
   "execution_count": 8,
   "id": "ea4b2866-1fac-47ad-88e8-2ce8d32ef94e",
   "metadata": {},
   "outputs": [
    {
     "name": "stdout",
     "output_type": "stream",
     "text": [
      "┌────────┬─────────────────┬─────────┬─────────────────────┬───┬───────────────┬───────────┬──────────────────┐\n",
      "│ Mal ID │    Username     │ Gender  │      Birthday       │ … │ Total Entries │ Rewatched │ Episodes Watched │\n",
      "│ int64  │     varchar     │ varchar │      timestamp      │   │    double     │  double   │      double      │\n",
      "├────────┼─────────────────┼─────────┼─────────────────────┼───┼───────────────┼───────────┼──────────────────┤\n",
      "│      1 │ Xinil           │ Male    │ 1985-03-04 00:00:00 │ … │         399.0 │      60.0 │           8458.0 │\n",
      "│      3 │ Aokaado         │ Male    │ NULL                │ … │         343.0 │      15.0 │           4072.0 │\n",
      "│      4 │ Crystal         │ Female  │ NULL                │ … │        1000.0 │      10.0 │          12781.0 │\n",
      "│      9 │ Arcane          │ NULL    │ NULL                │ … │          66.0 │       0.0 │           1817.0 │\n",
      "│     18 │ Mad             │ NULL    │ NULL                │ … │         153.0 │      42.0 │           3038.0 │\n",
      "│     20 │ vondur          │ Male    │ 1988-01-25 00:00:00 │ … │         138.0 │       7.0 │           4374.0 │\n",
      "│     23 │ Amuro           │ NULL    │ 1988-02-22 00:00:00 │ … │         392.0 │       0.0 │           8565.0 │\n",
      "│     36 │ Baman           │ Male    │ NULL                │ … │        1575.0 │      36.0 │          16309.0 │\n",
      "│     44 │ beddan          │ Male    │ NULL                │ … │          37.0 │       0.0 │           1083.0 │\n",
      "│     47 │ kei-clone       │ Male    │ NULL                │ … │         163.0 │       1.0 │           2054.0 │\n",
      "│      · │   ·             │  ·      │  ·                  │ · │            ·  │        ·  │              ·   │\n",
      "│      · │   ·             │  ·      │  ·                  │ · │            ·  │        ·  │              ·   │\n",
      "│      · │   ·             │  ·      │  ·                  │ · │            ·  │        ·  │              ·   │\n",
      "│  11173 │ Yarin           │ Male    │ 1988-01-15 00:00:00 │ … │          56.0 │       0.0 │           2007.0 │\n",
      "│  11174 │ amoonoo         │ NULL    │ NULL                │ … │           3.0 │       0.0 │             77.0 │\n",
      "│  11175 │ Agniezka        │ Female  │ 1993-02-11 00:00:00 │ … │           0.0 │       0.0 │              0.0 │\n",
      "│  11176 │ feelfree3use    │ NULL    │ NULL                │ … │           0.0 │       0.0 │              0.0 │\n",
      "│  11177 │ Fritz_von_Papen │ Male    │ 1990-10-25 00:00:00 │ … │         445.0 │      21.0 │           4951.0 │\n",
      "│  11178 │ Solana          │ Female  │ 1992-11-03 00:00:00 │ … │         346.0 │       2.0 │           3868.0 │\n",
      "│  11179 │ pokeballmanZwei │ NULL    │ NULL                │ … │         335.0 │       0.0 │           5725.0 │\n",
      "│  11180 │ luna94          │ NULL    │ NULL                │ … │           0.0 │       0.0 │              0.0 │\n",
      "│  11181 │ VeryCold        │ NULL    │ 1930-01-01 00:00:00 │ … │          44.0 │      46.0 │           1681.0 │\n",
      "│  11182 │ brolly_san      │ NULL    │ NULL                │ … │           2.0 │       5.0 │            502.0 │\n",
      "├────────┴─────────────────┴─────────┴─────────────────────┴───┴───────────────┴───────────┴──────────────────┤\n",
      "│ ? rows (>9999 rows, 20 shown)                                                          16 columns (7 shown) │\n",
      "└─────────────────────────────────────────────────────────────────────────────────────────────────────────────┘\n",
      "\n",
      "CPU times: total: 93.8 ms\n",
      "Wall time: 99.1 ms\n"
     ]
    }
   ],
   "source": [
    "%%time\n",
    "user_details.show()"
   ]
  },
  {
   "cell_type": "code",
   "execution_count": 6,
   "id": "41fc7af8-e844-42b8-9fec-0d81184234e3",
   "metadata": {},
   "outputs": [
    {
     "name": "stdout",
     "output_type": "stream",
     "text": [
      "CPU times: total: 93.8 ms\n",
      "Wall time: 168 ms\n"
     ]
    }
   ],
   "source": [
    "%%time\n",
    "# Reading the user ratings and anime details datasets\n",
    "user_ratings = duckdb.read_csv('data/users-score-2023.csv')\n",
    "anime_details = duckdb.read_csv('data/anime-dataset-2023.csv')"
   ]
  },
  {
   "cell_type": "code",
   "execution_count": 10,
   "id": "335d0087-93ce-4d64-9f37-ba53d0744e6e",
   "metadata": {},
   "outputs": [
    {
     "name": "stdout",
     "output_type": "stream",
     "text": [
      "┌─────────┬──────────┬──────────┬─────────────────────────────┬────────┐\n",
      "│ user_id │ Username │ anime_id │         Anime Title         │ rating │\n",
      "│  int64  │ varchar  │  int64   │           varchar           │ int64  │\n",
      "├─────────┼──────────┼──────────┼─────────────────────────────┼────────┤\n",
      "│       1 │ Xinil    │       21 │ One Piece                   │      9 │\n",
      "│       1 │ Xinil    │       48 │ .hack//Sign                 │      7 │\n",
      "│       1 │ Xinil    │      320 │ A Kite                      │      5 │\n",
      "│       1 │ Xinil    │       49 │ Aa! Megami-sama!            │      8 │\n",
      "│       1 │ Xinil    │      304 │ Aa! Megami-sama! Movie      │      8 │\n",
      "│       1 │ Xinil    │      306 │ Abenobashi Mahou☆Shoutengai │      8 │\n",
      "│       1 │ Xinil    │       53 │ Ai Yori Aoshi               │      7 │\n",
      "│       1 │ Xinil    │       47 │ Akira                       │      5 │\n",
      "│       1 │ Xinil    │      591 │ Amaenaide yo!!              │      6 │\n",
      "│       1 │ Xinil    │       54 │ Appleseed (Movie)           │      7 │\n",
      "│       · │ ·        │        · │     ·                       │      · │\n",
      "│       · │ ·        │        · │     ·                       │      · │\n",
      "│       · │ ·        │        · │     ·                       │      · │\n",
      "│     333 │ db       │      165 │ RahXephon                   │      4 │\n",
      "│     333 │ db       │      210 │ Ranma ½                     │      3 │\n",
      "│     333 │ db       │      919 │ Ray The Animation           │      6 │\n",
      "│     333 │ db       │      710 │ Rec                         │      4 │\n",
      "│     333 │ db       │     1693 │ Reideen                     │      4 │\n",
      "│     333 │ db       │      238 │ Rekka no Honoo              │      8 │\n",
      "│     333 │ db       │      197 │ Rizelmine                   │      5 │\n",
      "│     333 │ db       │     1699 │ Romeo x Juliet              │      4 │\n",
      "│     333 │ db       │       64 │ Rozen Maiden                │      8 │\n",
      "│     333 │ db       │       65 │ Rozen Maiden: Träumend      │      7 │\n",
      "├─────────┴──────────┴──────────┴─────────────────────────────┴────────┤\n",
      "│ ? rows (>9999 rows, 20 shown)                              5 columns │\n",
      "└──────────────────────────────────────────────────────────────────────┘\n",
      "\n",
      "CPU times: total: 62.5 ms\n",
      "Wall time: 73.6 ms\n"
     ]
    }
   ],
   "source": [
    "%%time\n",
    "user_ratings.show()"
   ]
  },
  {
   "cell_type": "code",
   "execution_count": 15,
   "id": "7e309184-dc0b-486a-afa5-f64fad7f3219",
   "metadata": {},
   "outputs": [
    {
     "name": "stdout",
     "output_type": "stream",
     "text": [
      "┌──────────┬──────────────────────┬──────────────────────┬───┬───────────┬─────────┬──────────────────────┐\n",
      "│ anime_id │         Name         │     English name     │ … │ Scored By │ Members │      Image URL       │\n",
      "│  int64   │       varchar        │       varchar        │   │  varchar  │  int64  │       varchar        │\n",
      "├──────────┼──────────────────────┼──────────────────────┼───┼───────────┼─────────┼──────────────────────┤\n",
      "│        1 │ Cowboy Bebop         │ Cowboy Bebop         │ … │ 914193.0  │ 1771505 │ https://cdn.myanim…  │\n",
      "│        5 │ Cowboy Bebop: Teng…  │ Cowboy Bebop: The …  │ … │ 206248.0  │  360978 │ https://cdn.myanim…  │\n",
      "│        6 │ Trigun               │ Trigun               │ … │ 356739.0  │  727252 │ https://cdn.myanim…  │\n",
      "│        7 │ Witch Hunter Robin   │ Witch Hunter Robin   │ … │ 42829.0   │  111931 │ https://cdn.myanim…  │\n",
      "│        8 │ Bouken Ou Beet       │ Beet the Vandel Bu…  │ … │ 6413.0    │   15001 │ https://cdn.myanim…  │\n",
      "│       15 │ Eyeshield 21         │ UNKNOWN              │ … │ 86524.0   │  177688 │ https://cdn.myanim…  │\n",
      "│       16 │ Hachimitsu to Clover │ Honey and Clover     │ … │ 81747.0   │  260166 │ https://cdn.myanim…  │\n",
      "│       17 │ Hungry Heart: Wild…  │ UNKNOWN              │ … │ 12960.0   │   24172 │ https://cdn.myanim…  │\n",
      "│       18 │ Initial D Fourth S…  │ UNKNOWN              │ … │ 97878.0   │  173710 │ https://cdn.myanim…  │\n",
      "│       19 │ Monster              │ Monster              │ … │ 368569.0  │ 1013100 │ https://cdn.myanim…  │\n",
      "│        · │    ·                 │    ·                 │ · │   ·       │      ·  │          ·           │\n",
      "│        · │    ·                 │    ·                 │ · │   ·       │      ·  │          ·           │\n",
      "│        · │    ·                 │    ·                 │ · │   ·       │      ·  │          ·           │\n",
      "│    29459 │ Pata Pata Mama       │ UNKNOWN              │ … │ 152.0     │     315 │ https://cdn.myanim…  │\n",
      "│    29467 │ Bubaga               │ Bubaga               │ … │ UNKNOWN   │     266 │ https://cdn.myanim…  │\n",
      "│    29469 │ Daisuki! Nendomama   │ UNKNOWN              │ … │ UNKNOWN   │     263 │ https://cdn.myanim…  │\n",
      "│    29471 │ Saikin Ponta         │ UNKNOWN              │ … │ UNKNOWN   │     363 │ https://cdn.myanim…  │\n",
      "│    29473 │ Toko-chan Chokkin    │ UNKNOWN              │ … │ UNKNOWN   │     240 │ https://cdn.myanim…  │\n",
      "│    29475 │ Straw-saurus Neo     │ Straw-saurus NEO     │ … │ 115.0     │     339 │ https://cdn.myanim…  │\n",
      "│    29477 │ Rescue YoYo          │ UNKNOWN              │ … │ 122.0     │     342 │ https://cdn.myanim…  │\n",
      "│    29479 │ Tsunagaru Animal     │ UNKNOWN              │ … │ UNKNOWN   │     207 │ https://cdn.myanim…  │\n",
      "│    29481 │ Kakinoki Mokkii      │ UNKNOWN              │ … │ 189.0     │     421 │ https://cdn.myanim…  │\n",
      "│    29483 │ Rainbow no Anime B…  │ UNKNOWN              │ … │ UNKNOWN   │     234 │ https://cdn.myanim…  │\n",
      "├──────────┴──────────────────────┴──────────────────────┴───┴───────────┴─────────┴──────────────────────┤\n",
      "│ ? rows (>9999 rows, 20 shown)                                                      24 columns (6 shown) │\n",
      "└─────────────────────────────────────────────────────────────────────────────────────────────────────────┘\n",
      "\n",
      "CPU times: total: 31.2 ms\n",
      "Wall time: 67.1 ms\n"
     ]
    }
   ],
   "source": [
    "%%time\n",
    "anime_details.show()"
   ]
  },
  {
   "cell_type": "code",
   "execution_count": 57,
   "id": "755b6f80-88b6-4628-9ab8-90826ab9d3b0",
   "metadata": {},
   "outputs": [
    {
     "name": "stdout",
     "output_type": "stream",
     "text": [
      "CPU times: total: 0 ns\n",
      "Wall time: 0 ns\n"
     ]
    }
   ],
   "source": [
    "%%time\n",
    "# Join anime_details, user_ratings and user details datasets and get the required columns\n",
    "# # Re-order the columns and rename the columns\n",
    "anime_ratings = duckdb.sql('''\n",
    "                                SELECT ad.anime_id as anime_id,\n",
    "                                        ad.Name as anime_name,\n",
    "                                        ad.Genres as genres,\n",
    "                                        split(ad.Genres,',')::VARCHAR[] as genres_list,\n",
    "                                        ad.Type as type,\n",
    "                                        ad.Episodes as episodes,\n",
    "                                        ad.Duration as episode_duration,\n",
    "                                        ad.Aired as aired_dates,\n",
    "                                        ud.\"Mal ID\" AS user_id,\n",
    "                                        ud.Username as user_name,\n",
    "                                        ud.Gender as user_gender,\n",
    "                                        ud.Birthday as user_birthday,\n",
    "                                        ud.Location as user_location,\n",
    "                                        ud.\"Mean Score\" as user_mean_score,\n",
    "                                        ud.Watching as animes_watching_user,\n",
    "                                        ud.Completed as animes_completed_user,\n",
    "                                        ud.\"On Hold\" as animes_onHold_user,\n",
    "                                        ud.Dropped as animes_dropped_user,\n",
    "                                        ud.\"Episodes Watched\" as total_animes_user_watched,\n",
    "                                        ur.rating as user_rating\n",
    "                                        \n",
    "                                FROM anime_details ad\n",
    "                                LEFT JOIN user_ratings ur\n",
    "                                    ON ad.anime_id = ur.anime_id\n",
    "                                LEFT JOIN user_details ud\n",
    "                                    ON ur.user_id = \"Mal ID\"\n",
    "                                \n",
    "                            ''')"
   ]
  },
  {
   "cell_type": "code",
   "execution_count": 59,
   "id": "6ccb1515-58c6-4e4c-b0de-6b1e69054074",
   "metadata": {},
   "outputs": [
    {
     "name": "stdout",
     "output_type": "stream",
     "text": [
      "┌──────────┬──────────────────────┬──────────────────────┬───┬──────────────────────┬─────────────┐\n",
      "│ anime_id │      anime_name      │        genres        │ … │ total_animes_user_…  │ user_rating │\n",
      "│  int64   │       varchar        │       varchar        │   │        double        │    int64    │\n",
      "├──────────┼──────────────────────┼──────────────────────┼───┼──────────────────────┼─────────────┤\n",
      "│    30376 │ Isshuukan Friends.…  │ Comedy, Slice of L…  │ … │              19843.0 │           7 │\n",
      "│    30378 │ Sanzoku Diary        │ Slice of Life        │ … │              27349.0 │           1 │\n",
      "│    30379 │ Nagato Yuki-chan n…  │ Comedy               │ … │               3995.0 │           6 │\n",
      "│    30381 │ Sousei no Aquarion…  │ Romance, Sci-Fi      │ … │              14202.0 │           8 │\n",
      "│    30382 │ Aquarion Logos       │ Action, Fantasy, R…  │ … │              18891.0 │           6 │\n",
      "│    30384 │ Miss Monochrome Th…  │ Comedy, Slice of L…  │ … │              13208.0 │           7 │\n",
      "│    30385 │ Valkyrie Drive: Me…  │ Action, Fantasy, G…  │ … │               8903.0 │           4 │\n",
      "│    30386 │ Pikaia!              │ Drama, Slice of Life │ … │              14789.0 │           6 │\n",
      "│    30390 │ Sengoku Musou: Sen…  │ Comedy               │ … │              19943.0 │           5 │\n",
      "│    30392 │ Joukyou Monogatari   │ Slice of Life        │ … │              25522.0 │           6 │\n",
      "│       ·  │        ·             │       ·              │ · │                  ·   │           · │\n",
      "│       ·  │        ·             │       ·              │ · │                  ·   │           · │\n",
      "│       ·  │        ·             │       ·              │ · │                  ·   │           · │\n",
      "│     2196 │ Genmu Senki Leda     │ Action, Adventure,…  │ … │               1592.0 │           8 │\n",
      "│     2201 │ Pokemon Movie 09: …  │ Action, Adventure,…  │ … │               5197.0 │           7 │\n",
      "│     2202 │ Waga Seishun no Ar…  │ Action, Adventure,…  │ … │               1754.0 │           9 │\n",
      "│     2206 │ Galaxy Angel Music…  │ Comedy, Sci-Fi       │ … │               8764.0 │           7 │\n",
      "│     2207 │ Hamelin no Violin …  │ Adventure, Comedy,…  │ … │               4363.0 │           7 │\n",
      "│     2213 │ Black Jack (TV)      │ Drama                │ … │               7155.0 │          10 │\n",
      "│     2219 │ Ryokunohara Meikyuu  │ Avant Garde, Boys …  │ … │               3618.0 │           7 │\n",
      "│     2226 │ Mori no Tonto-tachi  │ Fantasy              │ … │               4809.0 │           7 │\n",
      "│     2227 │ Lady Lady!!          │ Drama                │ … │              24933.0 │           7 │\n",
      "│     2231 │ Miyuki               │ Romance              │ … │              11241.0 │           6 │\n",
      "├──────────┴──────────────────────┴──────────────────────┴───┴──────────────────────┴─────────────┤\n",
      "│ ? rows (>9999 rows, 20 shown)                                              20 columns (5 shown) │\n",
      "└─────────────────────────────────────────────────────────────────────────────────────────────────┘\n",
      "\n",
      "CPU times: total: 7.91 s\n",
      "Wall time: 1.97 s\n"
     ]
    }
   ],
   "source": [
    "%%time\n",
    "anime_ratings.show()"
   ]
  },
  {
   "cell_type": "code",
   "execution_count": 38,
   "id": "b40c786c-1eb9-4eb6-8c54-000b634c7927",
   "metadata": {},
   "outputs": [
    {
     "name": "stdout",
     "output_type": "stream",
     "text": [
      "┌──────────────┐\n",
      "│ count_star() │\n",
      "│    int64     │\n",
      "├──────────────┤\n",
      "│     24333071 │\n",
      "└──────────────┘\n",
      "\n",
      "Total time taken: 6.538724422454834\n",
      "CPU times: total: 11 s\n",
      "Wall time: 6.54 s\n"
     ]
    }
   ],
   "source": [
    "%%time\n",
    "# Total rows in the table\n",
    "start_time = time.time()\n",
    "duckdb.sql('SELECT COUNT(*) FROM anime_ratings').show()\n",
    "end_time = time.time()\n",
    "print(f'Total time taken: {end_time - start_time}')"
   ]
  },
  {
   "cell_type": "code",
   "execution_count": 39,
   "id": "4eb0fc67-fa41-4262-902e-8efc811d1719",
   "metadata": {},
   "outputs": [
    {
     "name": "stdout",
     "output_type": "stream",
     "text": [
      "┌──────────────────────────┐\n",
      "│ count(DISTINCT anime_id) │\n",
      "│          int64           │\n",
      "├──────────────────────────┤\n",
      "│                    24905 │\n",
      "└──────────────────────────┘\n",
      "\n",
      "Total time taken: 6.865374326705933\n",
      "CPU times: total: 15.5 s\n",
      "Wall time: 6.87 s\n"
     ]
    }
   ],
   "source": [
    "%%time\n",
    "# Total anime in the table\n",
    "start_time = time.time()\n",
    "duckdb.sql('SELECT COUNT(DISTINCT anime_id) FROM anime_ratings').show()\n",
    "end_time = time.time()\n",
    "print(f'Total time taken: {end_time - start_time}')"
   ]
  },
  {
   "cell_type": "code",
   "execution_count": 40,
   "id": "31a9189d-ca72-4dcc-9004-96b7b21eac3a",
   "metadata": {},
   "outputs": [
    {
     "name": "stdout",
     "output_type": "stream",
     "text": [
      "┌───────────────────────────────────────────────┬────────────┬────────────────────┐\n",
      "│                  anime_name                   │ avg_rating │ total_user_ratings │\n",
      "│                    varchar                    │   double   │       int64        │\n",
      "├───────────────────────────────────────────────┼────────────┼────────────────────┤\n",
      "│ Chibi Maruko-chan: Hi no Youjin               │       10.0 │                  1 │\n",
      "│ Virtua Fighter: Costomize Clip                │       10.0 │                  1 │\n",
      "│ Lose It                                       │       10.0 │                  1 │\n",
      "│ Setsugetsuka                                  │       10.0 │                  1 │\n",
      "│ Iiwake Love Song                              │       10.0 │                  1 │\n",
      "│ Hajimemashite no Kimochi wo                   │       10.0 │                  1 │\n",
      "│ Kanchigaisei Han Kiboushou feat. Hatsune Miku │       10.0 │                  1 │\n",
      "│ Play \"Tag\"                                    │       10.0 │                  1 │\n",
      "│ Propo Dance!                                  │       10.0 │                  1 │\n",
      "│ Umi Yori Fukai Sora no Shita                  │       10.0 │                  2 │\n",
      "│           ·                                   │         ·  │                  · │\n",
      "│           ·                                   │         ·  │                  · │\n",
      "│           ·                                   │         ·  │                  · │\n",
      "│ God Eater Resonant Ops                        │        6.4 │                 10 │\n",
      "│ Vegeta Super Yasaijin ni Narou-hen            │        6.4 │                  5 │\n",
      "│ The Place Where We Were                       │        6.4 │                  5 │\n",
      "│ Doraemon Movie 35: Nobita no Space Heroes     │        6.4 │                 15 │\n",
      "│ Marine Dreamin'                               │        6.4 │                 10 │\n",
      "│ Teekyuu 8 Specials                            │        6.4 │                 24 │\n",
      "│ Ai Zai Xiyuan Qian                            │        6.4 │                  5 │\n",
      "│ Getter Robo Go                                │        6.4 │                 30 │\n",
      "│ Kero Kero Keroppi no Gulliver no Bouken       │        6.4 │                  5 │\n",
      "│ Milk House Dreaming: Ai no Shiki              │        6.4 │                  5 │\n",
      "├───────────────────────────────────────────────┴────────────┴────────────────────┤\n",
      "│ ? rows (>9999 rows, 20 shown)                                         3 columns │\n",
      "└─────────────────────────────────────────────────────────────────────────────────┘\n",
      "\n",
      "Total time taken: 13.860291242599487\n",
      "CPU times: total: 27.3 s\n",
      "Wall time: 13.9 s\n"
     ]
    }
   ],
   "source": [
    "%%time\n",
    "# Get the distinct anime in the file and their average ratings sort by rating descending\n",
    "start_time = time.time()\n",
    "duckdb.sql('''SELECT anime_name, \n",
    "                    AVG(user_rating) AS avg_rating,\n",
    "                    COUNT(DISTINCT user_id) AS total_user_ratings\n",
    "                FROM anime_ratings\n",
    "                GROUP BY anime_name\n",
    "                ORDER BY AVG(user_rating) DESC''').show()\n",
    "end_time = time.time()\n",
    "print(f'Total time taken: {end_time - start_time}')"
   ]
  },
  {
   "cell_type": "markdown",
   "id": "c22b47f1-9be5-4117-b069-60848e5bdfb9",
   "metadata": {},
   "source": [
    "We see that in the above output, there are a lot of animes where very few users gave ratings. The top animes we see in the above output are only rated by just one user. Let us filter to anime that are rated by atleast 1000 users so we can get a better list."
   ]
  },
  {
   "cell_type": "code",
   "execution_count": 74,
   "id": "aaeab02d-8f30-47c1-a3fe-924487681b41",
   "metadata": {},
   "outputs": [
    {
     "name": "stdout",
     "output_type": "stream",
     "text": [
      "┌───────────────────────────────────────────────────────┬────────────────────┬────────────────────┐\n",
      "│                      anime_name                       │     avg_rating     │ total_user_ratings │\n",
      "│                        varchar                        │       double       │       int64        │\n",
      "├───────────────────────────────────────────────────────┼────────────────────┼────────────────────┤\n",
      "│ Fullmetal Alchemist: Brotherhood                      │  9.139212618954504 │              74966 │\n",
      "│ Gintama°                                              │  9.115830115830116 │               6091 │\n",
      "│ Gintama'                                              │  9.096198784857455 │              12551 │\n",
      "│ Gintama': Enchousen                                   │  9.048557629552278 │               7490 │\n",
      "│ Clannad: After Story                                  │   9.03095777429285 │              50435 │\n",
      "│ Steins;Gate                                           │   9.01011105585944 │              41328 │\n",
      "│ Gintama Movie 2: Kanketsu-hen - Yorozuya yo Eien Nare │   9.00547861817075 │               6441 │\n",
      "│ Ginga Eiyuu Densetsu                                  │  8.978482801947543 │               6210 │\n",
      "│ Kimi no Na wa.                                        │  8.973839028664413 │              23446 │\n",
      "│ Hunter x Hunter (2011)                                │   8.91423125794155 │              24620 │\n",
      "│        ·                                              │           ·        │                 ·  │\n",
      "│        ·                                              │           ·        │                 ·  │\n",
      "│        ·                                              │           ·        │                 ·  │\n",
      "│ Diabolik Lovers                                       │  5.201288244766506 │               5454 │\n",
      "│ Zettai Shougeki: Platonic Heart                       │  5.185714285714286 │               1033 │\n",
      "│ Dies Irae                                             │  5.121856866537717 │               1009 │\n",
      "│ Chou Henshin Cosprayers                               │  5.098020735155513 │               1044 │\n",
      "│ Issho ni Training: Training with Hinako               │  5.019483682415976 │               2015 │\n",
      "│ Eiken: Eikenbu yori Ai wo Komete                      │  4.944942777605939 │               3174 │\n",
      "│ Ousama Game The Animation                             │ 4.7973333333333334 │               1456 │\n",
      "│ Issho ni Sleeping: Sleeping with Hinako               │  4.691844919786096 │               1466 │\n",
      "│ Pupa                                                  │  3.741536649985281 │               3316 │\n",
      "│ Hametsu no Mars                                       │  2.532095901005414 │               3776 │\n",
      "├───────────────────────────────────────────────────────┴────────────────────┴────────────────────┤\n",
      "│ 3412 rows (20 shown)                                                                  3 columns │\n",
      "└─────────────────────────────────────────────────────────────────────────────────────────────────┘\n",
      "\n",
      "Total time taken: 18.704726219177246\n",
      "CPU times: total: 22 s\n",
      "Wall time: 18.7 s\n"
     ]
    }
   ],
   "source": [
    "%%time\n",
    "# Get the distinct anime in the file and their average ratings \n",
    "# sort by rating descending for anime that have more than 1000 user ratings\n",
    "start_time = time.time()\n",
    "duckdb.sql('''SELECT anime_name, \n",
    "                    AVG(user_rating) AS avg_rating,\n",
    "                    COUNT(DISTINCT user_id) AS total_user_ratings\n",
    "                FROM anime_ratings\n",
    "                GROUP BY anime_name\n",
    "                HAVING COUNT(DISTINCT user_id) > 1000\n",
    "                ORDER BY AVG(user_rating) DESC''').show()\n",
    "end_time = time.time()\n",
    "print(f'Total time taken: {end_time - start_time}')"
   ]
  },
  {
   "cell_type": "code",
   "execution_count": 65,
   "id": "f9047e44-55dc-4082-9ea2-67fdd141333d",
   "metadata": {},
   "outputs": [
    {
     "name": "stdout",
     "output_type": "stream",
     "text": [
      "┌─────────────────┬──────────────┬───────────────────┬─────────────────────┐\n",
      "│ genres_unnested │ total_animes │  avg_user_rating  │ total_users_watched │\n",
      "│     varchar     │    int64     │      double       │        int64        │\n",
      "├─────────────────┼──────────────┼───────────────────┼─────────────────────┤\n",
      "│ Horror          │          462 │ 7.507185940201596 │              173272 │\n",
      "│ Mystery         │          774 │   7.8245364768336 │              195021 │\n",
      "│ Comedy          │         5360 │ 7.499463181010322 │              232065 │\n",
      "│ Romance         │         1878 │ 7.591861934646181 │              223936 │\n",
      "│ Girls Love      │          106 │ 7.132914372098045 │               73038 │\n",
      "│ Avant Garde     │          494 │ 7.857067889836932 │              105342 │\n",
      "│ UNKNOWN         │         1844 │ 6.734660194174757 │               45041 │\n",
      "│ Drama           │         2274 │ 7.817602417897131 │              230616 │\n",
      "│ Adventure       │         2810 │ 7.682486953357381 │              228727 │\n",
      "│ Sports          │          596 │ 7.790971871567853 │              107717 │\n",
      "│ Suspense        │          199 │ 8.148219599333613 │              180349 │\n",
      "│ Award Winning   │          220 │  8.31589646526595 │              195273 │\n",
      "│ Sci-Fi          │         2539 │ 7.624983980699368 │              211889 │\n",
      "│ Action          │         4101 │ 7.662112624107069 │              244452 │\n",
      "│ Fantasy         │         3458 │ 7.582495667618078 │              232137 │\n",
      "│ Ecchi           │          771 │ 7.129380903777768 │              170864 │\n",
      "│ Hentai          │         1465 │ 6.493343694477583 │               37242 │\n",
      "│ Supernatural    │         1300 │ 7.783007047666811 │              221772 │\n",
      "│ Boys Love       │          153 │ 7.175308107327812 │               48035 │\n",
      "│ Erotica         │           43 │ 6.883136947448521 │               32752 │\n",
      "│ Slice of Life   │         1282 │ 7.632545746227935 │              131917 │\n",
      "│ Gourmet         │          115 │ 7.458471003017328 │               61645 │\n",
      "├─────────────────┴──────────────┴───────────────────┴─────────────────────┤\n",
      "│ 22 rows                                                        4 columns │\n",
      "└──────────────────────────────────────────────────────────────────────────┘\n",
      "\n",
      "Total time taken: 270.2142550945282\n",
      "CPU times: total: 8min 3s\n",
      "Wall time: 4min 30s\n"
     ]
    }
   ],
   "source": [
    "%%time\n",
    "# Get the distinct anime  genres in the file and their average ratings\n",
    "start_time = time.time()\n",
    "duckdb.sql('''SELECT genres_unnested,\n",
    "                        COUNT(DISTINCT anime_id) as total_animes,\n",
    "                        AVG(user_rating) as avg_user_rating,\n",
    "                        COUNT(DISTINCT user_id) AS total_users_watched\n",
    "                FROM\n",
    "                (SELECT *,\n",
    "                        trim(unnest(genres_list),' ') as genres_unnested\n",
    "                        \n",
    "                FROM anime_ratings\n",
    "                ) t\n",
    "                WHERE user_rating IS NOT NULL\n",
    "                GROUP BY genres_unnested\n",
    "                \n",
    "                ''').show()\n",
    "end_time = time.time()\n",
    "print(f'Total time taken: {end_time - start_time}')"
   ]
  }
 ],
 "metadata": {
  "kernelspec": {
   "display_name": "Python 3 (ipykernel)",
   "language": "python",
   "name": "python3"
  },
  "language_info": {
   "codemirror_mode": {
    "name": "ipython",
    "version": 3
   },
   "file_extension": ".py",
   "mimetype": "text/x-python",
   "name": "python",
   "nbconvert_exporter": "python",
   "pygments_lexer": "ipython3",
   "version": "3.9.12"
  }
 },
 "nbformat": 4,
 "nbformat_minor": 5
}
